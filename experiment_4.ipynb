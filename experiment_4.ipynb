{
 "cells": [
  {
   "cell_type": "code",
   "execution_count": 30,
   "metadata": {},
   "outputs": [],
   "source": [
    "import numpy as np\n",
    "import matplotlib.pyplot as plt\n",
    "%matplotlib inline"
   ]
  },
  {
   "cell_type": "code",
   "execution_count": 31,
   "metadata": {},
   "outputs": [],
   "source": [
    "# Номер дня\n",
    "n = 8"
   ]
  },
  {
   "cell_type": "code",
   "execution_count": 32,
   "metadata": {},
   "outputs": [
    {
     "data": {
      "text/plain": [
       "[[0, 0.2, 0.8],\n",
       " [0.1, 0.24, 0.6599999999999999],\n",
       " [0.12, 0.21799999999999997, 0.6619999999999999],\n",
       " [0.10899999999999999, 0.22259999999999996, 0.6683999999999999],\n",
       " [0.11129999999999998, 0.22231999999999996, 0.6663799999999999],\n",
       " [0.11115999999999998, 0.22217399999999995, 0.6666659999999999],\n",
       " [0.11108699999999998, 0.22223179999999995, 0.6666811999999999],\n",
       " [0.11111589999999998, 0.22222175999999996, 0.6666623399999998]]"
      ]
     },
     "execution_count": 32,
     "metadata": {},
     "output_type": "execute_result"
    }
   ],
   "source": [
    "# рассчитаем рекурсивно вероятности, что Е, О, И покажут на n день\n",
    "def get_proba(n):\n",
    "    proba = [[0, 0.2, 0.8]]\n",
    "\n",
    "    for i in range(1, n):\n",
    "        p_e = 0.5 * proba[i - 1][1]\n",
    "        p_o = 0.2 * proba[i - 1][0] + 0.3 * proba[i - 1][2]\n",
    "        p_i = 0.8 * proba[i - 1][0] + 0.5 * proba[i - 1][1] + 0.7 * proba[i - 1][2]\n",
    "        proba.append([p_e, p_o, p_i])\n",
    "    return proba\n",
    "\n",
    "proba = get_proba(n)\n",
    "proba"
   ]
  },
  {
   "cell_type": "code",
   "execution_count": 33,
   "metadata": {},
   "outputs": [
    {
     "name": "stdout",
     "output_type": "stream",
     "text": [
      "Вероятность того, что на 8 день покажут \"Иронию судьбы\" равна: 0.66666234\n"
     ]
    }
   ],
   "source": [
    "print(f'Вероятность p_i того, что на {n} день покажут \"Иронию судьбы\" равна: {round(proba[-1][2], 15)}')"
   ]
  },
  {
   "cell_type": "code",
   "execution_count": 48,
   "metadata": {},
   "outputs": [
    {
     "data": {
      "text/plain": [
       "[<matplotlib.lines.Line2D at 0x7effe7b2a4d0>]"
      ]
     },
     "execution_count": 48,
     "metadata": {},
     "output_type": "execute_result"
    },
    {
     "data": {
      "image/png": "[encoded data removed]",
      "text/plain": [
       "<Figure size 432x288 with 1 Axes>"
      ]
     },
     "metadata": {
      "needs_background": "light"
     },
     "output_type": "display_data"
    }
   ],
   "source": [
    "# посмотрим, какие значения принимает вероятность для И с ростом номера дня\n",
    "k = 50\n",
    "x = np.arange(1, k + 1)\n",
    "proba_30 = np.array(get_proba(k))\n",
    "y = proba_30[:, 2]\n",
    "plt.title('Зависимость Вероятности p_i от n')\n",
    "plt.xlabel('Номер дня n')\n",
    "plt.ylabel('Вероятность p_i')\n",
    "plt.plot(x, y)"
   ]
  },
  {
   "cell_type": "code",
   "execution_count": 52,
   "metadata": {},
   "outputs": [
    {
     "name": "stdout",
     "output_type": "stream",
     "text": [
      "В среднем \"Иронию судьбы\" покажут 5 раз\n"
     ]
    }
   ],
   "source": [
    "print(f'В среднем \"Иронию судьбы\" покажут {int(np.mean(np.array(proba)[:, 2]) * n)} раз') "
   ]
  }
 ],
 "metadata": {
  "kernelspec": {
   "display_name": "Python 3",
   "language": "python",
   "name": "python3"
  },
  "language_info": {
   "codemirror_mode": {
    "name": "ipython",
    "version": 3
   },
   "file_extension": ".py",
   "mimetype": "text/x-python",
   "name": "python",
   "nbconvert_exporter": "python",
   "pygments_lexer": "ipython3",
   "version": "3.7.6"
  }
 },
 "nbformat": 4,
 "nbformat_minor": 4
}