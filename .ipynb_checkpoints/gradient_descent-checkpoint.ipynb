{
 "cells": [
  {
   "cell_type": "code",
   "execution_count": 2,
   "metadata": {},
   "outputs": [],
   "source": [
    "import numpy as np"
   ]
  },
  {
   "cell_type": "code",
   "execution_count": 3,
   "metadata": {},
   "outputs": [],
   "source": [
    "def numerical_derivative_2d(func, epsilon):\n",
    "    \"\"\"\n",
    "    Функция для приближённого вычисления градиента функции двух переменных. \n",
    "    :param func: np.ndarray -> float — произвольная дифференцируемая функция\n",
    "    :param epsilon: float — максимальная величина приращения по осям\n",
    "    :return: другая функция, которая приближённо вычисляет градиент в точке\n",
    "    \"\"\"\n",
    "    def grad_func(x):\n",
    "        \"\"\"\n",
    "        :param x: np.ndarray — точка, в которой нужно вычислить производную\n",
    "        :return: приближённое значение производной в этой точке\n",
    "        \"\"\"\n",
    "        grad = np.array([(func(np.array([x[0] + epsilon, x[1]])) - func(x)) / epsilon,\n",
    "                         (func(np.array([x[0], x[1] + epsilon])) - func(x)) / epsilon])\n",
    "        return grad\n",
    "\n",
    "    return grad_func\n",
    "\n",
    "\n",
    "def grad_descent_2d(func, low=-5, high=5, epoch=5):\n",
    "    \"\"\" \n",
    "    Градиентный метод с дроблением шага\n",
    "    :param low: левая граница интервала по каждой из осей\n",
    "    :param high: правая граница интервала по каждой из осей\n",
    "    :param func: np.ndarray -> float — функция \n",
    "    \"\"\"\n",
    "\n",
    "    eps = 10**(-10)\n",
    "    alpha0 = 1\n",
    "    delta = 0.95\n",
    "    e = 0.1\n",
    "    best_estimate = []\n",
    "    \n",
    "    deriv = numerical_derivative_2d(func, 10**(-10))\n",
    "\n",
    "    for i in range(epoch):\n",
    "        \n",
    "        est = np.random.uniform(low, high, size=2)\n",
    "\n",
    "        n = 0\n",
    "        prev_est = est + 10\n",
    "        alpha = alpha0\n",
    "\n",
    "        while (abs(func(est) - func(prev_est)) > eps and n < 10**4):\n",
    "            n += 1\n",
    "        \n",
    "            while ( func(est - alpha * deriv(est)) > (func(est) - e * alpha * np.linalg.norm(deriv(est))**2 ) ):\n",
    "                alpha *= delta\n",
    "\n",
    "            prev_est = est\n",
    "            est = est - alpha * deriv(est)\n",
    "            alpha = alpha0\n",
    "\n",
    "        best_estimate.append(est)\n",
    "        \n",
    "    func_estimate = []\n",
    "    \n",
    "    for i in range(epoch):\n",
    "        func_estimate.append(func(best_estimate[i]))\n",
    "        \n",
    "    return best_estimate[np.argmin(func_estimate)]"
   ]
  },
  {
   "cell_type": "code",
   "execution_count": 4,
   "metadata": {},
   "outputs": [
    {
     "name": "stdout",
     "output_type": "stream",
     "text": [
      "Точка минимума: (0.3225590183883569; -0.0965567511454398)\n"
     ]
    }
   ],
   "source": [
    "def func(x):\n",
    "    \"\"\"\n",
    "    Функция\n",
    "    :param x: np.ndarray — точка, в которой нужно вычислить функцию\n",
    "    :return: значение функции в этой точке\n",
    "    \"\"\"\n",
    "    return 6 * x[0]**6 + 2 * x[0]**4 * x[1]**2 + 10 * x[0]**2 + 6 * x[0] * x[1] + 10 * x[1]**2 - 6 * x[0] + 4\n",
    "\n",
    "answer = grad_descent_2d(func)\n",
    "print(f'Точка минимума: ({answer[0]}; {answer[1]})')"
   ]
  },
  {
   "cell_type": "code",
   "execution_count": 6,
   "metadata": {},
   "outputs": [
    {
     "name": "stdout",
     "output_type": "stream",
     "text": [
      "Минимальное значение функции: 3.018409317658751\n"
     ]
    }
   ],
   "source": [
    "print(f'Минимальное значение функции: {func(answer)}')"
   ]
  },
  {
   "cell_type": "code",
   "execution_count": null,
   "metadata": {},
   "outputs": [],
   "source": []
  }
 ],
 "metadata": {
  "kernelspec": {
   "display_name": "Python 3",
   "language": "python",
   "name": "python3"
  },
  "language_info": {
   "codemirror_mode": {
    "name": "ipython",
    "version": 3
   },
   "file_extension": ".py",
   "mimetype": "text/x-python",
   "name": "python",
   "nbconvert_exporter": "python",
   "pygments_lexer": "ipython3",
   "version": "3.7.6"
  }
 },
 "nbformat": 4,
 "nbformat_minor": 4
}
